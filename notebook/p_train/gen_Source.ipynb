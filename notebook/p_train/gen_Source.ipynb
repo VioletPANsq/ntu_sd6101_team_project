import pandas as pd

train_feature = pd.read_csv("task1_training_features.csv")
fix_feature = pd.read_csv("task1_negative_features_with_results.csv")

train_feature['predicted_rate'] = train_feature['rate']

# 检查列名和列数差异
train_columns = set(train_feature.columns)
fix_columns = set(fix_feature.columns)

# 找出不一致的列
missing_in_train = fix_columns - train_columns
missing_in_fix = train_columns - fix_columns

print("不一致的列:")
print("train_feature 缺少的列:", missing_in_train)
print("fix_feature 缺少的列:", missing_in_fix)

# 获取并输出两个文件的所有列名
# print("train_feature 列名:", train_feature.columns.tolist())

if list(train_feature.columns) == list(fix_feature.columns):
    # 合并 train_feature 和 fix_feature
    source = pd.concat([train_feature, fix_feature])
else:
    raise ValueError("train_feature 和 fix_feature 列数或列名不一致，无法合并")

source = source.sort_values(by="original_index").reset_index(drop=True)

# 将 rate 列中的所有空值或非数值类型数据替换为 0
source['rate'] = pd.to_numeric(source['rate'], errors='coerce').fillna(0)

# 同样地，确保 predict 列为数值类型，填充非数值为 0
source['predicted_rate'] = pd.to_numeric(source['predicted_rate'], errors='coerce').fillna(0)

source['new_rate'] = (0.6 * source['rate'] + 0.4 * source['predicted_rate']).round(1)
source.to_csv("source.csv", index=False, sep=',',encoding='utf-8-sig')
print("第二步完成：已合并 train_feature 和 fix_feature，添加 new_rate 列，并生成 source.csv 文件")
